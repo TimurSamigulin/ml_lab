{
 "cells": [
  {
   "cell_type": "markdown",
   "metadata": {},
   "source": [
    "# Лабораторная работа 6. Выбор оптимального классификатора"
   ]
  },
  {
   "cell_type": "markdown",
   "metadata": {},
   "source": [
    "В этой лабораторной работе вам потребуется выбрать наилучший классификатор с оптимальными параметрами для задачи про пассажиров [\"Титаника\"](https://ru.wikipedia.org/wiki/Титаник)."
   ]
  },
  {
   "cell_type": "markdown",
   "metadata": {},
   "source": [
    "__Задание 1.__  \n",
    "Загрузите данные (см. предыдущую лабораторную работу)."
   ]
  },
  {
   "cell_type": "code",
   "execution_count": 1,
   "metadata": {},
   "outputs": [],
   "source": [
    "import numpy as np\n",
    "import pandas as pd"
   ]
  },
  {
   "cell_type": "code",
   "execution_count": 2,
   "metadata": {},
   "outputs": [],
   "source": [
    "from matplotlib import pyplot as plt\n",
    "%matplotlib inline\n",
    "import seaborn as sns"
   ]
  },
  {
   "cell_type": "code",
   "execution_count": 3,
   "metadata": {},
   "outputs": [],
   "source": [
    "train = pd.read_csv('train.csv')\n",
    "test = pd.read_csv('test.csv')"
   ]
  },
  {
   "cell_type": "code",
   "execution_count": 4,
   "metadata": {},
   "outputs": [],
   "source": [
    "train.drop(['Name', 'Ticket', 'Cabin', 'Embarked'], axis=1, inplace=True)\n",
    "test.drop(['Name', 'Ticket', 'Cabin', 'Embarked'], axis=1, inplace=True)"
   ]
  },
  {
   "cell_type": "code",
   "execution_count": 5,
   "metadata": {},
   "outputs": [
    {
     "data": {
      "text/plain": [
       "(891, 8)"
      ]
     },
     "execution_count": 5,
     "metadata": {},
     "output_type": "execute_result"
    }
   ],
   "source": [
    "train.shape"
   ]
  },
  {
   "cell_type": "code",
   "execution_count": 6,
   "metadata": {},
   "outputs": [
    {
     "data": {
      "text/plain": [
       "(418, 7)"
      ]
     },
     "execution_count": 6,
     "metadata": {},
     "output_type": "execute_result"
    }
   ],
   "source": [
    "test.shape"
   ]
  },
  {
   "cell_type": "markdown",
   "metadata": {},
   "source": [
    "__Задание 2.__  \n",
    "Проведите предобработку данных (см. предыдущую лабораторную работу)."
   ]
  },
  {
   "cell_type": "code",
   "execution_count": 7,
   "metadata": {},
   "outputs": [],
   "source": [
    "test.Fare.fillna(test.Fare.mean(), inplace=True)"
   ]
  },
  {
   "cell_type": "code",
   "execution_count": 8,
   "metadata": {},
   "outputs": [],
   "source": [
    "def process_age(df, cut_points, label_names):\n",
    "    df.Age.fillna(value = -0.5, inplace = True)\n",
    "    df['Age_categories'] = pd.cut(df.Age, cut_points, labels = label_names)\n",
    "    return df\n",
    "\n",
    "cut_points = [-1, 0, 5, 12, 18, 35, 60, 100]\n",
    "label_names = [\"Missing\", \"Infant\", \"Child\", \"Teenager\", \"Young_Adult\", \"Adult\", \"Senior\"]"
   ]
  },
  {
   "cell_type": "code",
   "execution_count": 9,
   "metadata": {},
   "outputs": [],
   "source": [
    "train = process_age(train,cut_points,label_names)\n",
    "test = process_age(test,cut_points,label_names)"
   ]
  },
  {
   "cell_type": "code",
   "execution_count": 10,
   "metadata": {},
   "outputs": [],
   "source": [
    "train.drop(['Age'], axis=1, inplace=True)\n",
    "test.drop(['Age'], axis=1, inplace=True)"
   ]
  },
  {
   "cell_type": "code",
   "execution_count": 11,
   "metadata": {},
   "outputs": [],
   "source": [
    "def create_dummies(df, column_name):\n",
    "    df_dummies = pd.get_dummies(df, columns = [column_name])\n",
    "    return df_dummies"
   ]
  },
  {
   "cell_type": "code",
   "execution_count": 12,
   "metadata": {},
   "outputs": [],
   "source": [
    "train = create_dummies(train, \"Pclass\")\n",
    "test = create_dummies(test, \"Pclass\")\n",
    "\n",
    "train = create_dummies(train, \"Sex\")\n",
    "test = create_dummies(test, \"Sex\")\n",
    "\n",
    "train = create_dummies(train, \"Age_categories\")\n",
    "test = create_dummies(test, \"Age_categories\")"
   ]
  },
  {
   "cell_type": "markdown",
   "metadata": {},
   "source": [
    "__Задание 3.__  \n",
    "Примените масштабирование признаков (`StandardScaler`, `MinMaxScaler`)."
   ]
  },
  {
   "cell_type": "code",
   "execution_count": 13,
   "metadata": {},
   "outputs": [],
   "source": [
    "y = train.Survived\n",
    "train_surv = train.copy()\n",
    "train.drop('Survived', axis=1, inplace=True)"
   ]
  },
  {
   "cell_type": "markdown",
   "metadata": {},
   "source": [
    "### StandartScaler"
   ]
  },
  {
   "cell_type": "code",
   "execution_count": 14,
   "metadata": {},
   "outputs": [],
   "source": [
    "from sklearn.preprocessing import StandardScaler"
   ]
  },
  {
   "cell_type": "code",
   "execution_count": 15,
   "metadata": {},
   "outputs": [],
   "source": [
    "columns = train.columns"
   ]
  },
  {
   "cell_type": "code",
   "execution_count": 16,
   "metadata": {},
   "outputs": [],
   "source": [
    "scaler = StandardScaler()"
   ]
  },
  {
   "cell_type": "code",
   "execution_count": 17,
   "metadata": {},
   "outputs": [
    {
     "data": {
      "text/plain": [
       "StandardScaler()"
      ]
     },
     "execution_count": 17,
     "metadata": {},
     "output_type": "execute_result"
    }
   ],
   "source": [
    "scaler.fit(train)"
   ]
  },
  {
   "cell_type": "code",
   "execution_count": 18,
   "metadata": {},
   "outputs": [],
   "source": [
    "train_standart = scaler.transform(train)"
   ]
  },
  {
   "cell_type": "code",
   "execution_count": 19,
   "metadata": {},
   "outputs": [],
   "source": [
    "train_standart = pd.DataFrame(train_standart, columns=columns)"
   ]
  },
  {
   "cell_type": "code",
   "execution_count": 20,
   "metadata": {},
   "outputs": [],
   "source": [
    "test_scaled = scaler.transform(test)"
   ]
  },
  {
   "cell_type": "code",
   "execution_count": 21,
   "metadata": {},
   "outputs": [],
   "source": [
    "test_scaled = pd.DataFrame(test_scaled, columns=columns)"
   ]
  },
  {
   "cell_type": "code",
   "execution_count": 198,
   "metadata": {},
   "outputs": [
    {
     "data": {
      "text/html": [
       "<div>\n",
       "<style scoped>\n",
       "    .dataframe tbody tr th:only-of-type {\n",
       "        vertical-align: middle;\n",
       "    }\n",
       "\n",
       "    .dataframe tbody tr th {\n",
       "        vertical-align: top;\n",
       "    }\n",
       "\n",
       "    .dataframe thead th {\n",
       "        text-align: right;\n",
       "    }\n",
       "</style>\n",
       "<table border=\"1\" class=\"dataframe\">\n",
       "  <thead>\n",
       "    <tr style=\"text-align: right;\">\n",
       "      <th></th>\n",
       "      <th>PassengerId</th>\n",
       "      <th>SibSp</th>\n",
       "      <th>Parch</th>\n",
       "      <th>Fare</th>\n",
       "      <th>Pclass_1</th>\n",
       "      <th>Pclass_2</th>\n",
       "      <th>Pclass_3</th>\n",
       "      <th>Sex_female</th>\n",
       "      <th>Sex_male</th>\n",
       "      <th>Age_categories_Missing</th>\n",
       "      <th>Age_categories_Infant</th>\n",
       "      <th>Age_categories_Child</th>\n",
       "      <th>Age_categories_Teenager</th>\n",
       "      <th>Age_categories_Young_Adult</th>\n",
       "      <th>Age_categories_Adult</th>\n",
       "      <th>Age_categories_Senior</th>\n",
       "    </tr>\n",
       "  </thead>\n",
       "  <tbody>\n",
       "    <tr>\n",
       "      <th>0</th>\n",
       "      <td>1.733996</td>\n",
       "      <td>-0.474545</td>\n",
       "      <td>-0.473674</td>\n",
       "      <td>-0.490783</td>\n",
       "      <td>-0.565685</td>\n",
       "      <td>-0.510152</td>\n",
       "      <td>0.902587</td>\n",
       "      <td>-0.737695</td>\n",
       "      <td>0.737695</td>\n",
       "      <td>-0.497895</td>\n",
       "      <td>-0.227921</td>\n",
       "      <td>-0.169907</td>\n",
       "      <td>-0.291996</td>\n",
       "      <td>1.220175</td>\n",
       "      <td>-0.529313</td>\n",
       "      <td>-0.159111</td>\n",
       "    </tr>\n",
       "    <tr>\n",
       "      <th>1</th>\n",
       "      <td>1.737884</td>\n",
       "      <td>0.432793</td>\n",
       "      <td>-0.473674</td>\n",
       "      <td>-0.507479</td>\n",
       "      <td>-0.565685</td>\n",
       "      <td>-0.510152</td>\n",
       "      <td>0.902587</td>\n",
       "      <td>1.355574</td>\n",
       "      <td>-1.355574</td>\n",
       "      <td>-0.497895</td>\n",
       "      <td>-0.227921</td>\n",
       "      <td>-0.169907</td>\n",
       "      <td>-0.291996</td>\n",
       "      <td>-0.819555</td>\n",
       "      <td>1.889241</td>\n",
       "      <td>-0.159111</td>\n",
       "    </tr>\n",
       "    <tr>\n",
       "      <th>2</th>\n",
       "      <td>1.741772</td>\n",
       "      <td>-0.474545</td>\n",
       "      <td>-0.473674</td>\n",
       "      <td>-0.453367</td>\n",
       "      <td>-0.565685</td>\n",
       "      <td>1.960202</td>\n",
       "      <td>-1.107926</td>\n",
       "      <td>-0.737695</td>\n",
       "      <td>0.737695</td>\n",
       "      <td>-0.497895</td>\n",
       "      <td>-0.227921</td>\n",
       "      <td>-0.169907</td>\n",
       "      <td>-0.291996</td>\n",
       "      <td>-0.819555</td>\n",
       "      <td>-0.529313</td>\n",
       "      <td>6.284903</td>\n",
       "    </tr>\n",
       "    <tr>\n",
       "      <th>3</th>\n",
       "      <td>1.745659</td>\n",
       "      <td>-0.474545</td>\n",
       "      <td>-0.473674</td>\n",
       "      <td>-0.474005</td>\n",
       "      <td>-0.565685</td>\n",
       "      <td>-0.510152</td>\n",
       "      <td>0.902587</td>\n",
       "      <td>-0.737695</td>\n",
       "      <td>0.737695</td>\n",
       "      <td>-0.497895</td>\n",
       "      <td>-0.227921</td>\n",
       "      <td>-0.169907</td>\n",
       "      <td>-0.291996</td>\n",
       "      <td>1.220175</td>\n",
       "      <td>-0.529313</td>\n",
       "      <td>-0.159111</td>\n",
       "    </tr>\n",
       "    <tr>\n",
       "      <th>4</th>\n",
       "      <td>1.749547</td>\n",
       "      <td>0.432793</td>\n",
       "      <td>0.767630</td>\n",
       "      <td>-0.401017</td>\n",
       "      <td>-0.565685</td>\n",
       "      <td>-0.510152</td>\n",
       "      <td>0.902587</td>\n",
       "      <td>1.355574</td>\n",
       "      <td>-1.355574</td>\n",
       "      <td>-0.497895</td>\n",
       "      <td>-0.227921</td>\n",
       "      <td>-0.169907</td>\n",
       "      <td>-0.291996</td>\n",
       "      <td>1.220175</td>\n",
       "      <td>-0.529313</td>\n",
       "      <td>-0.159111</td>\n",
       "    </tr>\n",
       "    <tr>\n",
       "      <th>...</th>\n",
       "      <td>...</td>\n",
       "      <td>...</td>\n",
       "      <td>...</td>\n",
       "      <td>...</td>\n",
       "      <td>...</td>\n",
       "      <td>...</td>\n",
       "      <td>...</td>\n",
       "      <td>...</td>\n",
       "      <td>...</td>\n",
       "      <td>...</td>\n",
       "      <td>...</td>\n",
       "      <td>...</td>\n",
       "      <td>...</td>\n",
       "      <td>...</td>\n",
       "      <td>...</td>\n",
       "      <td>...</td>\n",
       "    </tr>\n",
       "    <tr>\n",
       "      <th>413</th>\n",
       "      <td>3.339692</td>\n",
       "      <td>-0.474545</td>\n",
       "      <td>-0.473674</td>\n",
       "      <td>-0.486337</td>\n",
       "      <td>-0.565685</td>\n",
       "      <td>-0.510152</td>\n",
       "      <td>0.902587</td>\n",
       "      <td>-0.737695</td>\n",
       "      <td>0.737695</td>\n",
       "      <td>2.008457</td>\n",
       "      <td>-0.227921</td>\n",
       "      <td>-0.169907</td>\n",
       "      <td>-0.291996</td>\n",
       "      <td>-0.819555</td>\n",
       "      <td>-0.529313</td>\n",
       "      <td>-0.159111</td>\n",
       "    </tr>\n",
       "    <tr>\n",
       "      <th>414</th>\n",
       "      <td>3.343579</td>\n",
       "      <td>-0.474545</td>\n",
       "      <td>-0.473674</td>\n",
       "      <td>1.544246</td>\n",
       "      <td>1.767767</td>\n",
       "      <td>-0.510152</td>\n",
       "      <td>-1.107926</td>\n",
       "      <td>1.355574</td>\n",
       "      <td>-1.355574</td>\n",
       "      <td>-0.497895</td>\n",
       "      <td>-0.227921</td>\n",
       "      <td>-0.169907</td>\n",
       "      <td>-0.291996</td>\n",
       "      <td>-0.819555</td>\n",
       "      <td>1.889241</td>\n",
       "      <td>-0.159111</td>\n",
       "    </tr>\n",
       "    <tr>\n",
       "      <th>415</th>\n",
       "      <td>3.347467</td>\n",
       "      <td>-0.474545</td>\n",
       "      <td>-0.473674</td>\n",
       "      <td>-0.502445</td>\n",
       "      <td>-0.565685</td>\n",
       "      <td>-0.510152</td>\n",
       "      <td>0.902587</td>\n",
       "      <td>-0.737695</td>\n",
       "      <td>0.737695</td>\n",
       "      <td>-0.497895</td>\n",
       "      <td>-0.227921</td>\n",
       "      <td>-0.169907</td>\n",
       "      <td>-0.291996</td>\n",
       "      <td>-0.819555</td>\n",
       "      <td>1.889241</td>\n",
       "      <td>-0.159111</td>\n",
       "    </tr>\n",
       "    <tr>\n",
       "      <th>416</th>\n",
       "      <td>3.351355</td>\n",
       "      <td>-0.474545</td>\n",
       "      <td>-0.473674</td>\n",
       "      <td>-0.486337</td>\n",
       "      <td>-0.565685</td>\n",
       "      <td>-0.510152</td>\n",
       "      <td>0.902587</td>\n",
       "      <td>-0.737695</td>\n",
       "      <td>0.737695</td>\n",
       "      <td>2.008457</td>\n",
       "      <td>-0.227921</td>\n",
       "      <td>-0.169907</td>\n",
       "      <td>-0.291996</td>\n",
       "      <td>-0.819555</td>\n",
       "      <td>-0.529313</td>\n",
       "      <td>-0.159111</td>\n",
       "    </tr>\n",
       "    <tr>\n",
       "      <th>417</th>\n",
       "      <td>3.355243</td>\n",
       "      <td>0.432793</td>\n",
       "      <td>0.767630</td>\n",
       "      <td>-0.198244</td>\n",
       "      <td>-0.565685</td>\n",
       "      <td>-0.510152</td>\n",
       "      <td>0.902587</td>\n",
       "      <td>-0.737695</td>\n",
       "      <td>0.737695</td>\n",
       "      <td>2.008457</td>\n",
       "      <td>-0.227921</td>\n",
       "      <td>-0.169907</td>\n",
       "      <td>-0.291996</td>\n",
       "      <td>-0.819555</td>\n",
       "      <td>-0.529313</td>\n",
       "      <td>-0.159111</td>\n",
       "    </tr>\n",
       "  </tbody>\n",
       "</table>\n",
       "<p>418 rows × 16 columns</p>\n",
       "</div>"
      ],
      "text/plain": [
       "     PassengerId     SibSp     Parch      Fare  Pclass_1  Pclass_2  Pclass_3  \\\n",
       "0       1.733996 -0.474545 -0.473674 -0.490783 -0.565685 -0.510152  0.902587   \n",
       "1       1.737884  0.432793 -0.473674 -0.507479 -0.565685 -0.510152  0.902587   \n",
       "2       1.741772 -0.474545 -0.473674 -0.453367 -0.565685  1.960202 -1.107926   \n",
       "3       1.745659 -0.474545 -0.473674 -0.474005 -0.565685 -0.510152  0.902587   \n",
       "4       1.749547  0.432793  0.767630 -0.401017 -0.565685 -0.510152  0.902587   \n",
       "..           ...       ...       ...       ...       ...       ...       ...   \n",
       "413     3.339692 -0.474545 -0.473674 -0.486337 -0.565685 -0.510152  0.902587   \n",
       "414     3.343579 -0.474545 -0.473674  1.544246  1.767767 -0.510152 -1.107926   \n",
       "415     3.347467 -0.474545 -0.473674 -0.502445 -0.565685 -0.510152  0.902587   \n",
       "416     3.351355 -0.474545 -0.473674 -0.486337 -0.565685 -0.510152  0.902587   \n",
       "417     3.355243  0.432793  0.767630 -0.198244 -0.565685 -0.510152  0.902587   \n",
       "\n",
       "     Sex_female  Sex_male  Age_categories_Missing  Age_categories_Infant  \\\n",
       "0     -0.737695  0.737695               -0.497895              -0.227921   \n",
       "1      1.355574 -1.355574               -0.497895              -0.227921   \n",
       "2     -0.737695  0.737695               -0.497895              -0.227921   \n",
       "3     -0.737695  0.737695               -0.497895              -0.227921   \n",
       "4      1.355574 -1.355574               -0.497895              -0.227921   \n",
       "..          ...       ...                     ...                    ...   \n",
       "413   -0.737695  0.737695                2.008457              -0.227921   \n",
       "414    1.355574 -1.355574               -0.497895              -0.227921   \n",
       "415   -0.737695  0.737695               -0.497895              -0.227921   \n",
       "416   -0.737695  0.737695                2.008457              -0.227921   \n",
       "417   -0.737695  0.737695                2.008457              -0.227921   \n",
       "\n",
       "     Age_categories_Child  Age_categories_Teenager  \\\n",
       "0               -0.169907                -0.291996   \n",
       "1               -0.169907                -0.291996   \n",
       "2               -0.169907                -0.291996   \n",
       "3               -0.169907                -0.291996   \n",
       "4               -0.169907                -0.291996   \n",
       "..                    ...                      ...   \n",
       "413             -0.169907                -0.291996   \n",
       "414             -0.169907                -0.291996   \n",
       "415             -0.169907                -0.291996   \n",
       "416             -0.169907                -0.291996   \n",
       "417             -0.169907                -0.291996   \n",
       "\n",
       "     Age_categories_Young_Adult  Age_categories_Adult  Age_categories_Senior  \n",
       "0                      1.220175             -0.529313              -0.159111  \n",
       "1                     -0.819555              1.889241              -0.159111  \n",
       "2                     -0.819555             -0.529313               6.284903  \n",
       "3                      1.220175             -0.529313              -0.159111  \n",
       "4                      1.220175             -0.529313              -0.159111  \n",
       "..                          ...                   ...                    ...  \n",
       "413                   -0.819555             -0.529313              -0.159111  \n",
       "414                   -0.819555              1.889241              -0.159111  \n",
       "415                   -0.819555              1.889241              -0.159111  \n",
       "416                   -0.819555             -0.529313              -0.159111  \n",
       "417                   -0.819555             -0.529313              -0.159111  \n",
       "\n",
       "[418 rows x 16 columns]"
      ]
     },
     "execution_count": 198,
     "metadata": {},
     "output_type": "execute_result"
    }
   ],
   "source": [
    "test_scaled"
   ]
  },
  {
   "cell_type": "markdown",
   "metadata": {},
   "source": [
    "### MinMaxScale"
   ]
  },
  {
   "cell_type": "code",
   "execution_count": 22,
   "metadata": {},
   "outputs": [],
   "source": [
    "from sklearn.preprocessing import MinMaxScaler"
   ]
  },
  {
   "cell_type": "code",
   "execution_count": 23,
   "metadata": {},
   "outputs": [],
   "source": [
    "min_max = MinMaxScaler()"
   ]
  },
  {
   "cell_type": "code",
   "execution_count": 24,
   "metadata": {},
   "outputs": [
    {
     "data": {
      "text/plain": [
       "MinMaxScaler()"
      ]
     },
     "execution_count": 24,
     "metadata": {},
     "output_type": "execute_result"
    }
   ],
   "source": [
    "min_max.fit(train)"
   ]
  },
  {
   "cell_type": "code",
   "execution_count": 25,
   "metadata": {},
   "outputs": [],
   "source": [
    "train_min_max = min_max.transform(train)"
   ]
  },
  {
   "cell_type": "code",
   "execution_count": 26,
   "metadata": {},
   "outputs": [],
   "source": [
    "train_min_max = pd.DataFrame(train_min_max, columns=columns)"
   ]
  },
  {
   "cell_type": "code",
   "execution_count": 27,
   "metadata": {},
   "outputs": [],
   "source": [
    "test_min_max = min_max.transform(test)"
   ]
  },
  {
   "cell_type": "code",
   "execution_count": 28,
   "metadata": {},
   "outputs": [],
   "source": [
    "test_min_max = pd.DataFrame(test_min_max, columns=columns)"
   ]
  },
  {
   "cell_type": "code",
   "execution_count": 199,
   "metadata": {},
   "outputs": [
    {
     "data": {
      "text/html": [
       "<div>\n",
       "<style scoped>\n",
       "    .dataframe tbody tr th:only-of-type {\n",
       "        vertical-align: middle;\n",
       "    }\n",
       "\n",
       "    .dataframe tbody tr th {\n",
       "        vertical-align: top;\n",
       "    }\n",
       "\n",
       "    .dataframe thead th {\n",
       "        text-align: right;\n",
       "    }\n",
       "</style>\n",
       "<table border=\"1\" class=\"dataframe\">\n",
       "  <thead>\n",
       "    <tr style=\"text-align: right;\">\n",
       "      <th></th>\n",
       "      <th>PassengerId</th>\n",
       "      <th>SibSp</th>\n",
       "      <th>Parch</th>\n",
       "      <th>Fare</th>\n",
       "      <th>Pclass_1</th>\n",
       "      <th>Pclass_2</th>\n",
       "      <th>Pclass_3</th>\n",
       "      <th>Sex_female</th>\n",
       "      <th>Sex_male</th>\n",
       "      <th>Age_categories_Missing</th>\n",
       "      <th>Age_categories_Infant</th>\n",
       "      <th>Age_categories_Child</th>\n",
       "      <th>Age_categories_Teenager</th>\n",
       "      <th>Age_categories_Young_Adult</th>\n",
       "      <th>Age_categories_Adult</th>\n",
       "      <th>Age_categories_Senior</th>\n",
       "    </tr>\n",
       "  </thead>\n",
       "  <tbody>\n",
       "    <tr>\n",
       "      <th>0</th>\n",
       "      <td>1.001124</td>\n",
       "      <td>0.000</td>\n",
       "      <td>0.000000</td>\n",
       "      <td>0.015282</td>\n",
       "      <td>0.0</td>\n",
       "      <td>0.0</td>\n",
       "      <td>1.0</td>\n",
       "      <td>0.0</td>\n",
       "      <td>1.0</td>\n",
       "      <td>0.0</td>\n",
       "      <td>0.0</td>\n",
       "      <td>0.0</td>\n",
       "      <td>0.0</td>\n",
       "      <td>1.0</td>\n",
       "      <td>0.0</td>\n",
       "      <td>0.0</td>\n",
       "    </tr>\n",
       "    <tr>\n",
       "      <th>1</th>\n",
       "      <td>1.002247</td>\n",
       "      <td>0.125</td>\n",
       "      <td>0.000000</td>\n",
       "      <td>0.013663</td>\n",
       "      <td>0.0</td>\n",
       "      <td>0.0</td>\n",
       "      <td>1.0</td>\n",
       "      <td>1.0</td>\n",
       "      <td>0.0</td>\n",
       "      <td>0.0</td>\n",
       "      <td>0.0</td>\n",
       "      <td>0.0</td>\n",
       "      <td>0.0</td>\n",
       "      <td>0.0</td>\n",
       "      <td>1.0</td>\n",
       "      <td>0.0</td>\n",
       "    </tr>\n",
       "    <tr>\n",
       "      <th>2</th>\n",
       "      <td>1.003371</td>\n",
       "      <td>0.000</td>\n",
       "      <td>0.000000</td>\n",
       "      <td>0.018909</td>\n",
       "      <td>0.0</td>\n",
       "      <td>1.0</td>\n",
       "      <td>0.0</td>\n",
       "      <td>0.0</td>\n",
       "      <td>1.0</td>\n",
       "      <td>0.0</td>\n",
       "      <td>0.0</td>\n",
       "      <td>0.0</td>\n",
       "      <td>0.0</td>\n",
       "      <td>0.0</td>\n",
       "      <td>0.0</td>\n",
       "      <td>1.0</td>\n",
       "    </tr>\n",
       "    <tr>\n",
       "      <th>3</th>\n",
       "      <td>1.004494</td>\n",
       "      <td>0.000</td>\n",
       "      <td>0.000000</td>\n",
       "      <td>0.016908</td>\n",
       "      <td>0.0</td>\n",
       "      <td>0.0</td>\n",
       "      <td>1.0</td>\n",
       "      <td>0.0</td>\n",
       "      <td>1.0</td>\n",
       "      <td>0.0</td>\n",
       "      <td>0.0</td>\n",
       "      <td>0.0</td>\n",
       "      <td>0.0</td>\n",
       "      <td>1.0</td>\n",
       "      <td>0.0</td>\n",
       "      <td>0.0</td>\n",
       "    </tr>\n",
       "    <tr>\n",
       "      <th>4</th>\n",
       "      <td>1.005618</td>\n",
       "      <td>0.125</td>\n",
       "      <td>0.166667</td>\n",
       "      <td>0.023984</td>\n",
       "      <td>0.0</td>\n",
       "      <td>0.0</td>\n",
       "      <td>1.0</td>\n",
       "      <td>1.0</td>\n",
       "      <td>0.0</td>\n",
       "      <td>0.0</td>\n",
       "      <td>0.0</td>\n",
       "      <td>0.0</td>\n",
       "      <td>0.0</td>\n",
       "      <td>1.0</td>\n",
       "      <td>0.0</td>\n",
       "      <td>0.0</td>\n",
       "    </tr>\n",
       "    <tr>\n",
       "      <th>...</th>\n",
       "      <td>...</td>\n",
       "      <td>...</td>\n",
       "      <td>...</td>\n",
       "      <td>...</td>\n",
       "      <td>...</td>\n",
       "      <td>...</td>\n",
       "      <td>...</td>\n",
       "      <td>...</td>\n",
       "      <td>...</td>\n",
       "      <td>...</td>\n",
       "      <td>...</td>\n",
       "      <td>...</td>\n",
       "      <td>...</td>\n",
       "      <td>...</td>\n",
       "      <td>...</td>\n",
       "      <td>...</td>\n",
       "    </tr>\n",
       "    <tr>\n",
       "      <th>413</th>\n",
       "      <td>1.465169</td>\n",
       "      <td>0.000</td>\n",
       "      <td>0.000000</td>\n",
       "      <td>0.015713</td>\n",
       "      <td>0.0</td>\n",
       "      <td>0.0</td>\n",
       "      <td>1.0</td>\n",
       "      <td>0.0</td>\n",
       "      <td>1.0</td>\n",
       "      <td>1.0</td>\n",
       "      <td>0.0</td>\n",
       "      <td>0.0</td>\n",
       "      <td>0.0</td>\n",
       "      <td>0.0</td>\n",
       "      <td>0.0</td>\n",
       "      <td>0.0</td>\n",
       "    </tr>\n",
       "    <tr>\n",
       "      <th>414</th>\n",
       "      <td>1.466292</td>\n",
       "      <td>0.000</td>\n",
       "      <td>0.000000</td>\n",
       "      <td>0.212559</td>\n",
       "      <td>1.0</td>\n",
       "      <td>0.0</td>\n",
       "      <td>0.0</td>\n",
       "      <td>1.0</td>\n",
       "      <td>0.0</td>\n",
       "      <td>0.0</td>\n",
       "      <td>0.0</td>\n",
       "      <td>0.0</td>\n",
       "      <td>0.0</td>\n",
       "      <td>0.0</td>\n",
       "      <td>1.0</td>\n",
       "      <td>0.0</td>\n",
       "    </tr>\n",
       "    <tr>\n",
       "      <th>415</th>\n",
       "      <td>1.467416</td>\n",
       "      <td>0.000</td>\n",
       "      <td>0.000000</td>\n",
       "      <td>0.014151</td>\n",
       "      <td>0.0</td>\n",
       "      <td>0.0</td>\n",
       "      <td>1.0</td>\n",
       "      <td>0.0</td>\n",
       "      <td>1.0</td>\n",
       "      <td>0.0</td>\n",
       "      <td>0.0</td>\n",
       "      <td>0.0</td>\n",
       "      <td>0.0</td>\n",
       "      <td>0.0</td>\n",
       "      <td>1.0</td>\n",
       "      <td>0.0</td>\n",
       "    </tr>\n",
       "    <tr>\n",
       "      <th>416</th>\n",
       "      <td>1.468539</td>\n",
       "      <td>0.000</td>\n",
       "      <td>0.000000</td>\n",
       "      <td>0.015713</td>\n",
       "      <td>0.0</td>\n",
       "      <td>0.0</td>\n",
       "      <td>1.0</td>\n",
       "      <td>0.0</td>\n",
       "      <td>1.0</td>\n",
       "      <td>1.0</td>\n",
       "      <td>0.0</td>\n",
       "      <td>0.0</td>\n",
       "      <td>0.0</td>\n",
       "      <td>0.0</td>\n",
       "      <td>0.0</td>\n",
       "      <td>0.0</td>\n",
       "    </tr>\n",
       "    <tr>\n",
       "      <th>417</th>\n",
       "      <td>1.469663</td>\n",
       "      <td>0.125</td>\n",
       "      <td>0.166667</td>\n",
       "      <td>0.043640</td>\n",
       "      <td>0.0</td>\n",
       "      <td>0.0</td>\n",
       "      <td>1.0</td>\n",
       "      <td>0.0</td>\n",
       "      <td>1.0</td>\n",
       "      <td>1.0</td>\n",
       "      <td>0.0</td>\n",
       "      <td>0.0</td>\n",
       "      <td>0.0</td>\n",
       "      <td>0.0</td>\n",
       "      <td>0.0</td>\n",
       "      <td>0.0</td>\n",
       "    </tr>\n",
       "  </tbody>\n",
       "</table>\n",
       "<p>418 rows × 16 columns</p>\n",
       "</div>"
      ],
      "text/plain": [
       "     PassengerId  SibSp     Parch      Fare  Pclass_1  Pclass_2  Pclass_3  \\\n",
       "0       1.001124  0.000  0.000000  0.015282       0.0       0.0       1.0   \n",
       "1       1.002247  0.125  0.000000  0.013663       0.0       0.0       1.0   \n",
       "2       1.003371  0.000  0.000000  0.018909       0.0       1.0       0.0   \n",
       "3       1.004494  0.000  0.000000  0.016908       0.0       0.0       1.0   \n",
       "4       1.005618  0.125  0.166667  0.023984       0.0       0.0       1.0   \n",
       "..           ...    ...       ...       ...       ...       ...       ...   \n",
       "413     1.465169  0.000  0.000000  0.015713       0.0       0.0       1.0   \n",
       "414     1.466292  0.000  0.000000  0.212559       1.0       0.0       0.0   \n",
       "415     1.467416  0.000  0.000000  0.014151       0.0       0.0       1.0   \n",
       "416     1.468539  0.000  0.000000  0.015713       0.0       0.0       1.0   \n",
       "417     1.469663  0.125  0.166667  0.043640       0.0       0.0       1.0   \n",
       "\n",
       "     Sex_female  Sex_male  Age_categories_Missing  Age_categories_Infant  \\\n",
       "0           0.0       1.0                     0.0                    0.0   \n",
       "1           1.0       0.0                     0.0                    0.0   \n",
       "2           0.0       1.0                     0.0                    0.0   \n",
       "3           0.0       1.0                     0.0                    0.0   \n",
       "4           1.0       0.0                     0.0                    0.0   \n",
       "..          ...       ...                     ...                    ...   \n",
       "413         0.0       1.0                     1.0                    0.0   \n",
       "414         1.0       0.0                     0.0                    0.0   \n",
       "415         0.0       1.0                     0.0                    0.0   \n",
       "416         0.0       1.0                     1.0                    0.0   \n",
       "417         0.0       1.0                     1.0                    0.0   \n",
       "\n",
       "     Age_categories_Child  Age_categories_Teenager  \\\n",
       "0                     0.0                      0.0   \n",
       "1                     0.0                      0.0   \n",
       "2                     0.0                      0.0   \n",
       "3                     0.0                      0.0   \n",
       "4                     0.0                      0.0   \n",
       "..                    ...                      ...   \n",
       "413                   0.0                      0.0   \n",
       "414                   0.0                      0.0   \n",
       "415                   0.0                      0.0   \n",
       "416                   0.0                      0.0   \n",
       "417                   0.0                      0.0   \n",
       "\n",
       "     Age_categories_Young_Adult  Age_categories_Adult  Age_categories_Senior  \n",
       "0                           1.0                   0.0                    0.0  \n",
       "1                           0.0                   1.0                    0.0  \n",
       "2                           0.0                   0.0                    1.0  \n",
       "3                           1.0                   0.0                    0.0  \n",
       "4                           1.0                   0.0                    0.0  \n",
       "..                          ...                   ...                    ...  \n",
       "413                         0.0                   0.0                    0.0  \n",
       "414                         0.0                   1.0                    0.0  \n",
       "415                         0.0                   1.0                    0.0  \n",
       "416                         0.0                   0.0                    0.0  \n",
       "417                         0.0                   0.0                    0.0  \n",
       "\n",
       "[418 rows x 16 columns]"
      ]
     },
     "execution_count": 199,
     "metadata": {},
     "output_type": "execute_result"
    }
   ],
   "source": [
    "test_min_max"
   ]
  },
  {
   "cell_type": "markdown",
   "metadata": {},
   "source": [
    "__Задание 4.__  \n",
    "Примените различные преобразования признаков (`PolynomialFeatures`)."
   ]
  },
  {
   "cell_type": "code",
   "execution_count": 29,
   "metadata": {},
   "outputs": [],
   "source": [
    "from sklearn.preprocessing import PolynomialFeatures"
   ]
  },
  {
   "cell_type": "code",
   "execution_count": 30,
   "metadata": {},
   "outputs": [],
   "source": [
    "poly = PolynomialFeatures(2)"
   ]
  },
  {
   "cell_type": "code",
   "execution_count": 31,
   "metadata": {},
   "outputs": [],
   "source": [
    "train_poly = poly.fit_transform(train_standart)"
   ]
  },
  {
   "cell_type": "markdown",
   "metadata": {},
   "source": [
    "__Задание 5.__  \n",
    "Обучите несколько классификаторов, в том числе:  \n",
    "1. Логистическую регрессию (`LogisticRegression`).\n",
    "1. Метод опорных векторов (`SVC`).\n",
    "1. Метод *k* ближайших соседей (`KNeighborsClassifier`).\n",
    "1. Наивный байесовский классификатор (`MultinomialNB`).\n",
    "1. Деревья решений (`DecisionTreeClassifier`).\n",
    "1. Случайный лес (`RandomForestClassifier`).\n",
    "1. AdaBoost (`AdaBoost`).\n",
    "1. Градиентный бустинг (`GradientBoostingClassifier`).\n",
    "\n",
    "Для обучения и проверки качества можно использовать функцию `train_test_split()`."
   ]
  },
  {
   "cell_type": "code",
   "execution_count": 32,
   "metadata": {},
   "outputs": [],
   "source": [
    "from sklearn.model_selection import train_test_split"
   ]
  },
  {
   "cell_type": "code",
   "execution_count": 33,
   "metadata": {},
   "outputs": [],
   "source": [
    "X_train, X_val, y_train, y_val = train_test_split(train, y, test_size = 0.2, random_state = 42)"
   ]
  },
  {
   "cell_type": "code",
   "execution_count": 34,
   "metadata": {},
   "outputs": [
    {
     "data": {
      "text/plain": [
       "(712, 16)"
      ]
     },
     "execution_count": 34,
     "metadata": {},
     "output_type": "execute_result"
    }
   ],
   "source": [
    "X_train.shape"
   ]
  },
  {
   "cell_type": "code",
   "execution_count": 35,
   "metadata": {},
   "outputs": [
    {
     "data": {
      "text/plain": [
       "(179, 16)"
      ]
     },
     "execution_count": 35,
     "metadata": {},
     "output_type": "execute_result"
    }
   ],
   "source": [
    "X_val.shape"
   ]
  },
  {
   "cell_type": "code",
   "execution_count": 36,
   "metadata": {},
   "outputs": [
    {
     "data": {
      "text/plain": [
       "(712,)"
      ]
     },
     "execution_count": 36,
     "metadata": {},
     "output_type": "execute_result"
    }
   ],
   "source": [
    "y_train.shape"
   ]
  },
  {
   "cell_type": "code",
   "execution_count": 37,
   "metadata": {},
   "outputs": [
    {
     "data": {
      "text/plain": [
       "(179,)"
      ]
     },
     "execution_count": 37,
     "metadata": {},
     "output_type": "execute_result"
    }
   ],
   "source": [
    "y_val.shape"
   ]
  },
  {
   "cell_type": "markdown",
   "metadata": {},
   "source": [
    "### LogisticRegression"
   ]
  },
  {
   "cell_type": "code",
   "execution_count": 38,
   "metadata": {},
   "outputs": [],
   "source": [
    "from sklearn.linear_model import LogisticRegression"
   ]
  },
  {
   "cell_type": "code",
   "execution_count": 39,
   "metadata": {},
   "outputs": [],
   "source": [
    "reg = LogisticRegression(max_iter = 1000).fit(X_train, y_train)"
   ]
  },
  {
   "cell_type": "code",
   "execution_count": 40,
   "metadata": {},
   "outputs": [
    {
     "data": {
      "text/plain": [
       "0.8044692737430168"
      ]
     },
     "execution_count": 40,
     "metadata": {},
     "output_type": "execute_result"
    }
   ],
   "source": [
    "reg.score(X_val, y_val)"
   ]
  },
  {
   "cell_type": "markdown",
   "metadata": {},
   "source": [
    "### SVC"
   ]
  },
  {
   "cell_type": "code",
   "execution_count": 41,
   "metadata": {},
   "outputs": [],
   "source": [
    "from sklearn.svm import SVC"
   ]
  },
  {
   "cell_type": "code",
   "execution_count": 42,
   "metadata": {},
   "outputs": [],
   "source": [
    "clf = SVC(kernel='linear').fit(X_train, y_train)"
   ]
  },
  {
   "cell_type": "code",
   "execution_count": 43,
   "metadata": {},
   "outputs": [
    {
     "data": {
      "text/plain": [
       "0.7988826815642458"
      ]
     },
     "execution_count": 43,
     "metadata": {},
     "output_type": "execute_result"
    }
   ],
   "source": [
    "clf.score(X_val, y_val)"
   ]
  },
  {
   "cell_type": "markdown",
   "metadata": {},
   "source": [
    "### k соседей"
   ]
  },
  {
   "cell_type": "code",
   "execution_count": 44,
   "metadata": {},
   "outputs": [],
   "source": [
    "from sklearn.neighbors import KNeighborsClassifier"
   ]
  },
  {
   "cell_type": "code",
   "execution_count": 45,
   "metadata": {},
   "outputs": [],
   "source": [
    "neigh = KNeighborsClassifier(n_neighbors=5).fit(X_train, y_train)"
   ]
  },
  {
   "cell_type": "code",
   "execution_count": 46,
   "metadata": {},
   "outputs": [
    {
     "data": {
      "text/plain": [
       "0.6703910614525139"
      ]
     },
     "execution_count": 46,
     "metadata": {},
     "output_type": "execute_result"
    }
   ],
   "source": [
    "neigh.score(X_val, y_val)"
   ]
  },
  {
   "cell_type": "markdown",
   "metadata": {},
   "source": [
    "### Наивный байесовский классификатор"
   ]
  },
  {
   "cell_type": "code",
   "execution_count": 47,
   "metadata": {},
   "outputs": [],
   "source": [
    "from sklearn.naive_bayes import MultinomialNB"
   ]
  },
  {
   "cell_type": "code",
   "execution_count": 48,
   "metadata": {},
   "outputs": [],
   "source": [
    "clf = MultinomialNB()"
   ]
  },
  {
   "cell_type": "code",
   "execution_count": 49,
   "metadata": {},
   "outputs": [
    {
     "data": {
      "text/plain": [
       "MultinomialNB()"
      ]
     },
     "execution_count": 49,
     "metadata": {},
     "output_type": "execute_result"
    }
   ],
   "source": [
    "clf.fit(X_train, y_train)"
   ]
  },
  {
   "cell_type": "code",
   "execution_count": 50,
   "metadata": {},
   "outputs": [
    {
     "data": {
      "text/plain": [
       "0.6927374301675978"
      ]
     },
     "execution_count": 50,
     "metadata": {},
     "output_type": "execute_result"
    }
   ],
   "source": [
    "clf.score(X_val, y_val)"
   ]
  },
  {
   "cell_type": "markdown",
   "metadata": {},
   "source": [
    "### Деревьяя решений"
   ]
  },
  {
   "cell_type": "code",
   "execution_count": 51,
   "metadata": {},
   "outputs": [],
   "source": [
    "from sklearn.tree import DecisionTreeClassifier"
   ]
  },
  {
   "cell_type": "code",
   "execution_count": 52,
   "metadata": {},
   "outputs": [],
   "source": [
    "clf = DecisionTreeClassifier().fit(X_train, y_train)"
   ]
  },
  {
   "cell_type": "code",
   "execution_count": 53,
   "metadata": {},
   "outputs": [
    {
     "data": {
      "text/plain": [
       "0.7430167597765364"
      ]
     },
     "execution_count": 53,
     "metadata": {},
     "output_type": "execute_result"
    }
   ],
   "source": [
    "clf.score(X_val, y_val)"
   ]
  },
  {
   "cell_type": "markdown",
   "metadata": {},
   "source": [
    "### Случайный лес "
   ]
  },
  {
   "cell_type": "code",
   "execution_count": 54,
   "metadata": {},
   "outputs": [],
   "source": [
    "from sklearn.ensemble import RandomForestClassifier"
   ]
  },
  {
   "cell_type": "code",
   "execution_count": 55,
   "metadata": {},
   "outputs": [],
   "source": [
    "clf = RandomForestClassifier().fit(X_train, y_train)"
   ]
  },
  {
   "cell_type": "code",
   "execution_count": 56,
   "metadata": {},
   "outputs": [
    {
     "data": {
      "text/plain": [
       "0.8044692737430168"
      ]
     },
     "execution_count": 56,
     "metadata": {},
     "output_type": "execute_result"
    }
   ],
   "source": [
    "clf.score(X_val, y_val)"
   ]
  },
  {
   "cell_type": "markdown",
   "metadata": {},
   "source": [
    "### AdaBoost"
   ]
  },
  {
   "cell_type": "code",
   "execution_count": 57,
   "metadata": {},
   "outputs": [],
   "source": [
    "from sklearn.ensemble import AdaBoostClassifier"
   ]
  },
  {
   "cell_type": "code",
   "execution_count": 58,
   "metadata": {},
   "outputs": [],
   "source": [
    "clf = AdaBoostClassifier().fit(X_train, y_train)"
   ]
  },
  {
   "cell_type": "code",
   "execution_count": 59,
   "metadata": {},
   "outputs": [
    {
     "data": {
      "text/plain": [
       "0.7821229050279329"
      ]
     },
     "execution_count": 59,
     "metadata": {},
     "output_type": "execute_result"
    }
   ],
   "source": [
    "clf.score(X_val, y_val)"
   ]
  },
  {
   "cell_type": "markdown",
   "metadata": {},
   "source": [
    "### GradientBoostingClassifier"
   ]
  },
  {
   "cell_type": "code",
   "execution_count": 60,
   "metadata": {},
   "outputs": [],
   "source": [
    "from sklearn.ensemble import GradientBoostingClassifier"
   ]
  },
  {
   "cell_type": "code",
   "execution_count": 61,
   "metadata": {},
   "outputs": [],
   "source": [
    "clf = GradientBoostingClassifier().fit(X_train, y_train)"
   ]
  },
  {
   "cell_type": "code",
   "execution_count": 62,
   "metadata": {},
   "outputs": [
    {
     "data": {
      "text/plain": [
       "0.7988826815642458"
      ]
     },
     "execution_count": 62,
     "metadata": {},
     "output_type": "execute_result"
    }
   ],
   "source": [
    "clf.score(X_val, y_val)"
   ]
  },
  {
   "cell_type": "markdown",
   "metadata": {},
   "source": [
    "__Задание 6.__  \n",
    "При помощи `Pipeline` и `GridSearchCV` выберите оптимальную архитектуру:\n",
    "1. Метод масштабирования.\n",
    "1. Степень полинома в `PolynomialFeatures`.\n",
    "1. Параметры классификаторов (в том числе, параметры регуляризации).\n",
    "\n",
    "Заносите в таблицу Excel результаты тестирования (варианты параметров, оценки качества)."
   ]
  },
  {
   "cell_type": "code",
   "execution_count": 63,
   "metadata": {},
   "outputs": [],
   "source": [
    "from sklearn.pipeline import Pipeline\n",
    "from sklearn.pipeline import make_pipeline\n",
    "from sklearn.model_selection import GridSearchCV"
   ]
  },
  {
   "cell_type": "code",
   "execution_count": 64,
   "metadata": {},
   "outputs": [],
   "source": [
    "models = [\n",
    "    'LogisticRegression',\n",
    "    'SVC',\n",
    "    'KNeighborsClassifier',\n",
    "    'DecisionTreeClassifier',\n",
    "    'RandomForestClassifier',\n",
    "    'AdaBoostClassifier',\n",
    "    'GradientBoostingClassifier'\n",
    "]"
   ]
  },
  {
   "cell_type": "code",
   "execution_count": 65,
   "metadata": {},
   "outputs": [],
   "source": [
    "classifiers = [LogisticRegression(), \n",
    "               SVC(), \n",
    "               KNeighborsClassifier(), \n",
    "               DecisionTreeClassifier(), \n",
    "               RandomForestClassifier(), \n",
    "               AdaBoostClassifier(),\n",
    "               GradientBoostingClassifier()]"
   ]
  },
  {
   "cell_type": "code",
   "execution_count": 66,
   "metadata": {},
   "outputs": [],
   "source": [
    "params = {\n",
    "    models[0]: {f'{models[0]}__max_iter': [1000, 2000], f'{models[0]}__penalty': ['l1', 'l2'], f'{models[0]}__solver': ['liblinear']},\n",
    "    models[1]: {f'{models[1]}__kernel': ('sigmoid', 'rbf'), f'{models[1]}__C':[1, 10]},\n",
    "    models[2]: {f'{models[2]}__n_neighbors': [3, 5, 7]},\n",
    "    models[3]: {f'{models[3]}__splitter': ('best', 'random'), f'{models[3]}__max_depth': (10, 'None')},\n",
    "    models[4]: {f'{models[4]}__max_depth': (10, 'None')},\n",
    "    models[5]: {f'{models[5]}__n_estimators': [50, 100]},\n",
    "    models[6]: {f'{models[6]}__n_estimators': [100, 200, 500]}\n",
    "}"
   ]
  },
  {
   "cell_type": "code",
   "execution_count": 67,
   "metadata": {},
   "outputs": [],
   "source": [
    "scalers = (StandardScaler(), MinMaxScaler())"
   ]
  },
  {
   "cell_type": "code",
   "execution_count": 138,
   "metadata": {},
   "outputs": [],
   "source": [
    "df_final = pd.DataFrame()"
   ]
  },
  {
   "cell_type": "code",
   "execution_count": 139,
   "metadata": {
    "scrolled": false
   },
   "outputs": [
    {
     "name": "stdout",
     "output_type": "stream",
     "text": [
      "LogisticRegression - StandardScaler() - Poly 2 - 0.8044692737430168\n",
      "LogisticRegression - StandardScaler() - Poly 3 - 0.8100558659217877\n",
      "LogisticRegression - StandardScaler() - Poly 4 - 0.8156424581005587\n",
      "LogisticRegression - MinMaxScaler() - Poly 2 - 0.8268156424581006\n",
      "LogisticRegression - MinMaxScaler() - Poly 3 - 0.8268156424581006\n",
      "LogisticRegression - MinMaxScaler() - Poly 4 - 0.8156424581005587\n",
      "SVC - StandardScaler() - Poly 2 - 0.8212290502793296\n",
      "SVC - StandardScaler() - Poly 3 - 0.8100558659217877\n",
      "SVC - StandardScaler() - Poly 4 - 0.8268156424581006\n",
      "SVC - MinMaxScaler() - Poly 2 - 0.8379888268156425\n",
      "SVC - MinMaxScaler() - Poly 3 - 0.8435754189944135\n",
      "SVC - MinMaxScaler() - Poly 4 - 0.7988826815642458\n",
      "KNeighborsClassifier - StandardScaler() - Poly 2 - 0.8212290502793296\n",
      "KNeighborsClassifier - StandardScaler() - Poly 3 - 0.8044692737430168\n",
      "KNeighborsClassifier - StandardScaler() - Poly 4 - 0.8100558659217877\n",
      "KNeighborsClassifier - MinMaxScaler() - Poly 2 - 0.8379888268156425\n",
      "KNeighborsClassifier - MinMaxScaler() - Poly 3 - 0.8268156424581006\n",
      "KNeighborsClassifier - MinMaxScaler() - Poly 4 - 0.8268156424581006\n",
      "DecisionTreeClassifier - StandardScaler() - Poly 2 - 0.8100558659217877\n",
      "DecisionTreeClassifier - StandardScaler() - Poly 3 - 0.7877094972067039\n",
      "DecisionTreeClassifier - StandardScaler() - Poly 4 - 0.776536312849162\n",
      "DecisionTreeClassifier - MinMaxScaler() - Poly 2 - 0.8324022346368715\n",
      "DecisionTreeClassifier - MinMaxScaler() - Poly 3 - 0.7821229050279329\n",
      "DecisionTreeClassifier - MinMaxScaler() - Poly 4 - 0.7988826815642458\n",
      "RandomForestClassifier - StandardScaler() - Poly 2 - 0.8156424581005587\n",
      "RandomForestClassifier - StandardScaler() - Poly 3 - 0.7988826815642458\n",
      "RandomForestClassifier - StandardScaler() - Poly 4 - 0.7988826815642458\n",
      "RandomForestClassifier - MinMaxScaler() - Poly 2 - 0.8156424581005587\n",
      "RandomForestClassifier - MinMaxScaler() - Poly 3 - 0.8100558659217877\n",
      "RandomForestClassifier - MinMaxScaler() - Poly 4 - 0.8044692737430168\n",
      "AdaBoostClassifier - StandardScaler() - Poly 2 - 0.8100558659217877\n",
      "AdaBoostClassifier - StandardScaler() - Poly 3 - 0.8212290502793296\n",
      "AdaBoostClassifier - StandardScaler() - Poly 4 - 0.8379888268156425\n",
      "AdaBoostClassifier - MinMaxScaler() - Poly 2 - 0.8156424581005587\n",
      "AdaBoostClassifier - MinMaxScaler() - Poly 3 - 0.8212290502793296\n",
      "AdaBoostClassifier - MinMaxScaler() - Poly 4 - 0.8156424581005587\n",
      "GradientBoostingClassifier - StandardScaler() - Poly 2 - 0.7932960893854749\n",
      "GradientBoostingClassifier - StandardScaler() - Poly 3 - 0.8100558659217877\n",
      "GradientBoostingClassifier - StandardScaler() - Poly 4 - 0.8100558659217877\n",
      "GradientBoostingClassifier - MinMaxScaler() - Poly 2 - 0.7932960893854749\n",
      "GradientBoostingClassifier - MinMaxScaler() - Poly 3 - 0.7988826815642458\n",
      "GradientBoostingClassifier - MinMaxScaler() - Poly 4 - 0.8156424581005587\n"
     ]
    }
   ],
   "source": [
    "for name, estimator in zip(models, classifiers):\n",
    "    for scaler in scalers:\n",
    "        for poly in (2,3,4):\n",
    "            pipe = Pipeline([\n",
    "                                ('poly', PolynomialFeatures(poly)), \n",
    "                                ('scl', scaler),\n",
    "                                (name, estimator)])\n",
    "            gs = GridSearchCV(pipe, params[name], scoring='accuracy', refit='True', n_jobs=-1, cv=5)\n",
    "            gs.fit(X_train, y_train)\n",
    "            \n",
    "            df = pd.DataFrame(gs.cv_results_['params'])\n",
    "            df.loc[:, ('Scaler')] = scaler\n",
    "            df.loc[:, ('Poly')] = poly\n",
    "            df_mean = pd.DataFrame(list(gs.cv_results_['mean_test_score']), columns=[\"Acc\"])\n",
    "            df_gs = pd.concat([df, df_mean], ignore_index=False, axis=1).reset_index()\n",
    "            df_gs = df_gs.append(pd.DataFrame(columns=['Model']))\n",
    "            df_gs.Model = name\n",
    "            sort = np.argsort(gs.cv_results_['rank_test_score'])\n",
    "            df_model = df_gs.iloc[sort]\n",
    "            df_final = df_final.append(df_model)\n",
    "            \n",
    "            print('{} - {} - Poly {} - {}'.format(name, scaler, poly, gs.score(X_val, y_val)))"
   ]
  },
  {
   "cell_type": "code",
   "execution_count": 140,
   "metadata": {},
   "outputs": [],
   "source": [
    "df_final.to_csv('lab.csv')"
   ]
  },
  {
   "cell_type": "markdown",
   "metadata": {},
   "source": [
    "__Задание 7.__  \n",
    "1. Выберите несколько лучших классификаторов (от 3 до 10).\n",
    "1. Обучите выбранные классификаторы на всех доступных размеченных данных.\n",
    "1. Получите результаты предсказания для тестовых данных.\n",
    "1. Отправьте результаты на сервер [Kaggle](https://ru.wikipedia.org/wiki/Титаник)."
   ]
  },
  {
   "cell_type": "markdown",
   "metadata": {},
   "source": [
    "### 1"
   ]
  },
  {
   "cell_type": "code",
   "execution_count": 172,
   "metadata": {},
   "outputs": [],
   "source": [
    "name = 'LogisticRegression'"
   ]
  },
  {
   "cell_type": "code",
   "execution_count": 173,
   "metadata": {},
   "outputs": [],
   "source": [
    "pipe = Pipeline([\n",
    "                                ('poly', PolynomialFeatures(3)), \n",
    "                                ('scl', MinMaxScaler()),\n",
    "                                (name, LogisticRegression())])"
   ]
  },
  {
   "cell_type": "code",
   "execution_count": 174,
   "metadata": {},
   "outputs": [],
   "source": [
    "gs = GridSearchCV(pipe, params[name], scoring='accuracy', refit='True', n_jobs=-1, cv=5)"
   ]
  },
  {
   "cell_type": "code",
   "execution_count": 176,
   "metadata": {},
   "outputs": [
    {
     "data": {
      "text/plain": [
       "GridSearchCV(cv=5,\n",
       "             estimator=Pipeline(steps=[('poly', PolynomialFeatures(degree=3)),\n",
       "                                       ('scl', MinMaxScaler()),\n",
       "                                       ('LogisticRegression',\n",
       "                                        LogisticRegression())]),\n",
       "             n_jobs=-1,\n",
       "             param_grid={'LogisticRegression__max_iter': [1000, 2000],\n",
       "                         'LogisticRegression__penalty': ['l1', 'l2'],\n",
       "                         'LogisticRegression__solver': ['liblinear']},\n",
       "             refit='True', scoring='accuracy')"
      ]
     },
     "execution_count": 176,
     "metadata": {},
     "output_type": "execute_result"
    }
   ],
   "source": [
    "gs.fit(train, y)"
   ]
  },
  {
   "cell_type": "code",
   "execution_count": 177,
   "metadata": {},
   "outputs": [],
   "source": [
    "y_pred = gs.predict(test)"
   ]
  },
  {
   "cell_type": "code",
   "execution_count": 180,
   "metadata": {},
   "outputs": [],
   "source": [
    "test_ids = test[\"PassengerId\"]\n",
    "submission_df = {\"PassengerId\": test_ids,\n",
    "                 \"Survived\": y_pred}\n",
    "submission = pd.DataFrame(submission_df)"
   ]
  },
  {
   "cell_type": "code",
   "execution_count": 182,
   "metadata": {},
   "outputs": [],
   "source": [
    "submission.to_csv('submission_1.csv', index=False)"
   ]
  },
  {
   "cell_type": "markdown",
   "metadata": {},
   "source": [
    "### 2"
   ]
  },
  {
   "cell_type": "code",
   "execution_count": 183,
   "metadata": {},
   "outputs": [],
   "source": [
    "name = 'SVC'"
   ]
  },
  {
   "cell_type": "code",
   "execution_count": 184,
   "metadata": {},
   "outputs": [],
   "source": [
    "pipe = Pipeline([\n",
    "                                ('poly', PolynomialFeatures(4)), \n",
    "                                ('scl', MinMaxScaler()),\n",
    "                                (name, SVC())])"
   ]
  },
  {
   "cell_type": "code",
   "execution_count": 185,
   "metadata": {},
   "outputs": [],
   "source": [
    "gs = GridSearchCV(pipe, params[name], scoring='accuracy', refit='True', n_jobs=-1, cv=5)"
   ]
  },
  {
   "cell_type": "code",
   "execution_count": 186,
   "metadata": {},
   "outputs": [
    {
     "data": {
      "text/plain": [
       "GridSearchCV(cv=5,\n",
       "             estimator=Pipeline(steps=[('poly', PolynomialFeatures(degree=4)),\n",
       "                                       ('scl', MinMaxScaler()),\n",
       "                                       ('SVC', SVC())]),\n",
       "             n_jobs=-1,\n",
       "             param_grid={'SVC__C': [1, 10], 'SVC__kernel': ('sigmoid', 'rbf')},\n",
       "             refit='True', scoring='accuracy')"
      ]
     },
     "execution_count": 186,
     "metadata": {},
     "output_type": "execute_result"
    }
   ],
   "source": [
    "gs.fit(train, y)"
   ]
  },
  {
   "cell_type": "code",
   "execution_count": 187,
   "metadata": {},
   "outputs": [],
   "source": [
    "y_pred = gs.predict(test)"
   ]
  },
  {
   "cell_type": "code",
   "execution_count": null,
   "metadata": {},
   "outputs": [],
   "source": []
  },
  {
   "cell_type": "code",
   "execution_count": 188,
   "metadata": {},
   "outputs": [],
   "source": [
    "test_ids = test[\"PassengerId\"]\n",
    "submission_df = {\"PassengerId\": test_ids,\n",
    "                 \"Survived\": y_pred}\n",
    "submission = pd.DataFrame(submission_df)"
   ]
  },
  {
   "cell_type": "code",
   "execution_count": 190,
   "metadata": {},
   "outputs": [],
   "source": [
    "submission.to_csv('submission_2.csv', index=False)"
   ]
  },
  {
   "cell_type": "markdown",
   "metadata": {},
   "source": [
    "### 3"
   ]
  },
  {
   "cell_type": "code",
   "execution_count": 191,
   "metadata": {},
   "outputs": [],
   "source": [
    "name = 'GradientBoostingClassifier'"
   ]
  },
  {
   "cell_type": "code",
   "execution_count": 192,
   "metadata": {},
   "outputs": [],
   "source": [
    "pipe = Pipeline([\n",
    "                                ('poly', PolynomialFeatures(2)), \n",
    "                                ('scl', StandardScaler()),\n",
    "                                (name, GradientBoostingClassifier())])"
   ]
  },
  {
   "cell_type": "code",
   "execution_count": 193,
   "metadata": {},
   "outputs": [],
   "source": [
    "gs = GridSearchCV(pipe, params[name], scoring='accuracy', refit='True', n_jobs=-1, cv=5)"
   ]
  },
  {
   "cell_type": "code",
   "execution_count": 194,
   "metadata": {},
   "outputs": [
    {
     "data": {
      "text/plain": [
       "GridSearchCV(cv=5,\n",
       "             estimator=Pipeline(steps=[('poly', PolynomialFeatures()),\n",
       "                                       ('scl', StandardScaler()),\n",
       "                                       ('GradientBoostingClassifier',\n",
       "                                        GradientBoostingClassifier())]),\n",
       "             n_jobs=-1,\n",
       "             param_grid={'GradientBoostingClassifier__n_estimators': [100, 200,\n",
       "                                                                      500]},\n",
       "             refit='True', scoring='accuracy')"
      ]
     },
     "execution_count": 194,
     "metadata": {},
     "output_type": "execute_result"
    }
   ],
   "source": [
    "gs.fit(train, y)"
   ]
  },
  {
   "cell_type": "code",
   "execution_count": 195,
   "metadata": {},
   "outputs": [],
   "source": [
    "y_pred = gs.predict(test)"
   ]
  },
  {
   "cell_type": "code",
   "execution_count": 196,
   "metadata": {},
   "outputs": [],
   "source": [
    "test_ids = test[\"PassengerId\"]\n",
    "submission_df = {\"PassengerId\": test_ids,\n",
    "                 \"Survived\": y_pred}\n",
    "submission = pd.DataFrame(submission_df)"
   ]
  },
  {
   "cell_type": "code",
   "execution_count": 197,
   "metadata": {},
   "outputs": [],
   "source": [
    "submission.to_csv('submission_3.csv', index=False)"
   ]
  }
 ],
 "metadata": {
  "kernelspec": {
   "display_name": "Python 3",
   "language": "python",
   "name": "python3"
  },
  "language_info": {
   "codemirror_mode": {
    "name": "ipython",
    "version": 3
   },
   "file_extension": ".py",
   "mimetype": "text/x-python",
   "name": "python",
   "nbconvert_exporter": "python",
   "pygments_lexer": "ipython3",
   "version": "3.8.5"
  },
  "toc": {
   "base_numbering": 1,
   "nav_menu": {},
   "number_sections": true,
   "sideBar": true,
   "skip_h1_title": false,
   "title_cell": "Table of Contents",
   "title_sidebar": "Contents",
   "toc_cell": false,
   "toc_position": {},
   "toc_section_display": true,
   "toc_window_display": true
  },
  "varInspector": {
   "cols": {
    "lenName": 16,
    "lenType": 16,
    "lenVar": 40
   },
   "kernels_config": {
    "python": {
     "delete_cmd_postfix": "",
     "delete_cmd_prefix": "del ",
     "library": "var_list.py",
     "varRefreshCmd": "print(var_dic_list())"
    },
    "r": {
     "delete_cmd_postfix": ") ",
     "delete_cmd_prefix": "rm(",
     "library": "var_list.r",
     "varRefreshCmd": "cat(var_dic_list()) "
    }
   },
   "types_to_exclude": [
    "module",
    "function",
    "builtin_function_or_method",
    "instance",
    "_Feature"
   ],
   "window_display": false
  }
 },
 "nbformat": 4,
 "nbformat_minor": 4
}
